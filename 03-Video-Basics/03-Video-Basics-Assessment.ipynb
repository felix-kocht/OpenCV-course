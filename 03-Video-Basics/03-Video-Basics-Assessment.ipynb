{
 "cells": [
  {
   "cell_type": "markdown",
   "metadata": {},
   "source": [
    "<a href=\"https://www.pieriandata.com\"><img src=\"../DATA/Logo.jpg\"></a>\n",
    "\n",
    "<em text-align:center>Copyright Pierian Data Inc.</em>"
   ]
  },
  {
   "cell_type": "markdown",
   "metadata": {},
   "source": [
    "# Video Basics Assessment \n",
    "\n",
    "* **Note: This assessment is quite hard! Feel free to treat it as a code along and jump to the solutions** *\n",
    "\n",
    "## Project Task\n",
    "\n",
    "**You only have one task here. Create a program that reads in a live stream from a camera on your computer (or if you don't have a camera, just open up a video file). Then whenever you click the left mouse button down, create a blue circle around where you've clicked. Check out the video for an example of what the final project should look like**"
   ]
  },
  {
   "cell_type": "markdown",
   "metadata": {},
   "source": [
    "**Guide**\n",
    "\n",
    "\n",
    "\n",
    "Check out the skeleton guide below:"
   ]
  },
  {
   "cell_type": "code",
   "execution_count": 8,
   "metadata": {},
   "outputs": [
    {
     "data": {
      "text/plain": [
       "-1"
      ]
     },
     "execution_count": 8,
     "metadata": {},
     "output_type": "execute_result"
    }
   ],
   "source": [
    "\n",
    "#all imports\n",
    "import cv2\n",
    "import numpy as np\n",
    "import matplotlib.pyplot as plt\n",
    "%matplotlib inline\n",
    "\n",
    "#clicked point\n",
    "point = (None,None)\n",
    "\n",
    "#read the Camera\n",
    "cap = cv2.VideoCapture(1)\n",
    "\n",
    "#function for blue circle on leftbuttonclick\n",
    "def draw_circle(event, x, y, flags, param):\n",
    "\n",
    "    global point\n",
    "\n",
    "    if event == cv2.EVENT_LBUTTONDOWN:\n",
    "        point = (x,y)  \n",
    "\n",
    "\n",
    "cv2.namedWindow('frame')\n",
    "\n",
    "cv2.setMouseCallback('frame', draw_circle)\n",
    "\n",
    "\n",
    "#display the camera\n",
    "while True:\n",
    "    ret, frame = cap.read()\n",
    "\n",
    "    #draw circle at point if not (None,None)\n",
    "    if point != (None,None):\n",
    "        cv2.circle(frame, point, 20, (255,0,0), 2)\n",
    "    \n",
    "    \n",
    "    cv2.imshow('frame', frame)\n",
    "    if cv2.waitKey(1) & 0xFF == ord('q'):\n",
    "        break\n",
    "\n",
    "#release the camera\n",
    "cap.release()\n",
    "cv2.destroyAllWindows()\n",
    "cv2.waitKey(1)\n",
    "cv2.waitKey(1)\n",
    "cv2.waitKey(1)\n",
    "cv2.waitKey(1)"
   ]
  },
  {
   "cell_type": "code",
   "execution_count": null,
   "metadata": {},
   "outputs": [],
   "source": []
  }
 ],
 "metadata": {
  "kernelspec": {
   "display_name": "Python 3",
   "language": "python",
   "name": "python3"
  },
  "language_info": {
   "codemirror_mode": {
    "name": "ipython",
    "version": 3
   },
   "file_extension": ".py",
   "mimetype": "text/x-python",
   "name": "python",
   "nbconvert_exporter": "python",
   "pygments_lexer": "ipython3",
   "version": "3.11.0"
  }
 },
 "nbformat": 4,
 "nbformat_minor": 2
}
